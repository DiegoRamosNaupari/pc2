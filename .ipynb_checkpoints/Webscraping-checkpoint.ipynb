{
 "cells": [
  {
   "cell_type": "markdown",
   "metadata": {},
   "source": [
    "# PC2"
   ]
  },
  {
   "cell_type": "markdown",
   "metadata": {},
   "source": [
    "## Webscrapiando pagina \n",
    "\n",
    "-  [Pagina con la que se trabaja](https://www.genecards.org/)"
   ]
  },
  {
   "cell_type": "markdown",
   "metadata": {},
   "source": [
    "Existen 3 maneras de hacer el $Web Scraping$ :\n",
    "- $Beatifoul Soup$ , es el mas sencillo pero **NO PODEMOS USARLO EN ESTA OCASION PORQUE AL VER LA PAGINA EN SU CODIGO  FUENTE ESTA ESTA HECHA CON JAVA Y  ESTE PAQUETE SE LIMITA JAVA**\n",
    "-Otra forma es usando $Selenium$ que que no restringue qe sea **JAVA** la pagina \n"
   ]
  },
  {
   "cell_type": "markdown",
   "metadata": {},
   "source": [
    "Ademas de los distntos paquetes que usaremos , tenemos que instalar **Google Chromedriver** , este , paa instalarlo debemos hacer lo siguiente , primero dirigirnos a esta [aca descargamos Webscrapping](https://chromedriver.chromium.org/downloads) . Nos saldran vrias versiones del $GooglE Chromedriver$ , para ver cual le correspondeen a nuestra compaturadora, tendremos que ir a los los tres pountos que salen en la parte superior derecha de alli se desglozaran opciones le damos clicl en $Ayuda$, luego en $Informacion de Google Chromedriver$ , nos saldra una ventana la cual nos mostrara la version que nos corresponde  ahora si podemos descargarlo ."
   ]
  },
  {
   "cell_type": "code",
   "execution_count": null,
   "metadata": {},
   "outputs": [],
   "source": [
    "#instalamos los paquetes para poder hacer el webscraping \n",
    "!pip install selenium\n",
    "!pip install chromedriver"
   ]
  },
  {
   "cell_type": "code",
   "execution_count": null,
   "metadata": {},
   "outputs": [],
   "source": [
    "from selenium import webdriver\n",
    "from selenium.webdriver.support.ui import Select\n",
    "import pandas as pd\n",
    "import time\n",
    "\n",
    "# Temas: Localizar un boton, seleccionar elemento de listas desplegables y extraer datos de tabla\n",
    "\n",
    "# definer pagina a scrapear y ruta donde descargaste chromediver\n",
    "website = 'https://www.genecards.org/'\n",
    "##la ruta nos mostrara \\ slash en este sentido, pra que nos lea tendremos quecambiarle la direccion por esta /\n",
    "path =( \"C:/Users/User/AppData/Local/Temp/Rar$EXa0.209/chromedriver.exe\") #escribe tu ruta aqui\n",
    "\n",
    "# definer variable 'driver' es el buscador de google\n",
    "#ponemos chrome porque es lo que estamos usando\n",
    "driver=webdriver.Chrome(path)\n",
    "# abrir Google Chrome mediante chromedriver\n",
    "#el get nos dirige a esta pagina\n",
    "driver.get(website)\n"
   ]
  },
  {
   "cell_type": "code",
   "execution_count": 2,
   "metadata": {},
   "outputs": [],
   "source": []
  },
  {
   "cell_type": "code",
   "execution_count": null,
   "metadata": {},
   "outputs": [],
   "source": []
  }
 ],
 "metadata": {
  "kernelspec": {
   "display_name": "Python 3",
   "language": "python",
   "name": "python3"
  },
  "language_info": {
   "codemirror_mode": {
    "name": "ipython",
    "version": 3
   },
   "file_extension": ".py",
   "mimetype": "text/x-python",
   "name": "python",
   "nbconvert_exporter": "python",
   "pygments_lexer": "ipython3",
   "version": "3.7.3"
  }
 },
 "nbformat": 4,
 "nbformat_minor": 5
}
